{
 "cells": [
  {
   "cell_type": "code",
   "execution_count": 1,
   "id": "677be7f7",
   "metadata": {},
   "outputs": [],
   "source": [
    "import torch\n",
    "import argparse\n",
    "import pandas as pd\n",
    "import numpy as np\n",
    "from torch.utils.data import Dataset, DataLoader\n",
    "from Model.DKT import  DKT\n",
    "import torch.nn as nn\n",
    "from data_loader import DataReader\n",
    "from Dataset.DKTDataset import DKTDataset\n",
    "from tqdm import tqdm\n",
    "from sklearn.metrics import roc_auc_score"
   ]
  },
  {
   "cell_type": "code",
   "execution_count": 2,
   "id": "ccd94755",
   "metadata": {},
   "outputs": [],
   "source": [
    "train_path = './data/' + \"synthetic\" + '/' + \"train_set.csv\"\n",
    "test_path = './data/' + \"synthetic\" + '/' + \"test_set.csv\"\n",
    "train =   DataReader(path=train_path, separate_char=',')\n",
    "train_set =  train.load_data()\n",
    "test = DataReader(path=test_path,separate_char=',')\n",
    "test_set = test.load_data()\n",
    "\n",
    "train_set = pd.DataFrame(train_set,columns=['user_id','skill_id','correct']).set_index('user_id')\n",
    "test_set = pd.DataFrame(test_set, columns=['user_id', 'skill_id', 'correct']).set_index('user_id')\n",
    "\n"
   ]
  },
  {
   "cell_type": "code",
   "execution_count": null,
   "id": "74298761",
   "metadata": {},
   "outputs": [
    {
     "name": "stdout",
     "output_type": "stream",
     "text": [
      "50\n",
      "13\n"
     ]
    }
   ],
   "source": [
    "train_dataset = DKTDataset(group=train_set,n_skill=123,max_seq=100,min_step=10)\n",
    "test_dataset = DKTDataset(test_set, n_skill=123,max_seq=100,min_step=10)\n",
    "\n",
    "dataloader_kwargs = {'pin_memory': True} if torch.cuda.is_available() else {}\n",
    "\n",
    "full_dataset = train_dataset + test_dataset\n",
    "train_size = int(0.1 * len(full_dataset))\n",
    "test_size = len(full_dataset) - train_size\n",
    "train_dataset,test_dataset = torch.utils.data.random_split(full_dataset, [train_size, test_size])\n",
    "\n",
    "\n",
    "# 如果运行内存不够建议减低num_workers的值\n",
    "train_dataloader = DataLoader(train_dataset, batch_size=64, shuffle=True, num_workers=4, **dataloader_kwargs)\n",
    "test_dataloader = DataLoader(test_dataset, batch_size=64, shuffle=True, num_workers=4, **dataloader_kwargs)\n",
    "\n",
    "print(train_dataloader.__len__())\n",
    "print(test_dataloader.__len__())\n",
    "for (i,j) in tqdm(zip(train_dataloader,test_dataloader)):\n",
    "    print(i,j)\n",
    "    break"
   ]
  },
  {
   "cell_type": "code",
   "execution_count": null,
   "id": "57447b8d",
   "metadata": {},
   "outputs": [],
   "source": [
    "print(train_dataloader.__len__())\n",
    "print(test_dataloader.__len__())\n",
    "for (i,j) in tqdm(zip(train_dataloader,test_dataloader)):\n",
    "    print(i,j)\n",
    "    break"
   ]
  },
  {
   "cell_type": "code",
   "execution_count": 27,
   "id": "4185ac8c",
   "metadata": {},
   "outputs": [
    {
     "name": "stderr",
     "output_type": "stream",
     "text": [
      "\n",
      "  0%|                                                                                           | 0/79 [00:00<?, ?it/s]\u001b[A"
     ]
    },
    {
     "name": "stdout",
     "output_type": "stream",
     "text": [
      "torch.Size([32, 99, 246])\n",
      "32 32\n",
      "[tensor([[[0., 0., 0.,  ..., 0., 0., 0.],\n",
      "         [0., 0., 0.,  ..., 0., 0., 0.],\n",
      "         [0., 0., 0.,  ..., 0., 0., 0.],\n",
      "         ...,\n",
      "         [0., 0., 0.,  ..., 0., 0., 0.],\n",
      "         [0., 0., 0.,  ..., 0., 0., 0.],\n",
      "         [0., 0., 0.,  ..., 0., 0., 0.]],\n",
      "\n",
      "        [[0., 0., 0.,  ..., 0., 0., 0.],\n",
      "         [0., 0., 0.,  ..., 0., 0., 0.],\n",
      "         [0., 0., 0.,  ..., 0., 0., 0.],\n",
      "         ...,\n",
      "         [0., 0., 0.,  ..., 0., 0., 0.],\n",
      "         [0., 0., 0.,  ..., 0., 0., 0.],\n",
      "         [0., 0., 0.,  ..., 0., 0., 0.]],\n",
      "\n",
      "        [[0., 0., 0.,  ..., 0., 0., 0.],\n",
      "         [0., 0., 0.,  ..., 0., 0., 0.],\n",
      "         [0., 0., 0.,  ..., 0., 0., 0.],\n",
      "         ...,\n",
      "         [0., 0., 0.,  ..., 0., 0., 0.],\n",
      "         [0., 0., 0.,  ..., 0., 0., 0.],\n",
      "         [0., 0., 0.,  ..., 0., 0., 0.]],\n",
      "\n",
      "        ...,\n",
      "\n",
      "        [[0., 0., 0.,  ..., 0., 0., 0.],\n",
      "         [0., 0., 0.,  ..., 0., 0., 0.],\n",
      "         [0., 0., 0.,  ..., 0., 0., 0.],\n",
      "         ...,\n",
      "         [0., 0., 0.,  ..., 0., 0., 0.],\n",
      "         [0., 0., 0.,  ..., 0., 0., 0.],\n",
      "         [0., 0., 0.,  ..., 0., 0., 0.]],\n",
      "\n",
      "        [[0., 0., 0.,  ..., 0., 0., 0.],\n",
      "         [0., 0., 0.,  ..., 0., 0., 0.],\n",
      "         [0., 0., 0.,  ..., 0., 0., 0.],\n",
      "         ...,\n",
      "         [0., 0., 0.,  ..., 0., 0., 0.],\n",
      "         [0., 0., 0.,  ..., 0., 0., 0.],\n",
      "         [0., 0., 0.,  ..., 0., 0., 0.]],\n",
      "\n",
      "        [[0., 0., 0.,  ..., 0., 0., 0.],\n",
      "         [0., 0., 0.,  ..., 0., 0., 0.],\n",
      "         [0., 0., 0.,  ..., 0., 0., 0.],\n",
      "         ...,\n",
      "         [0., 0., 0.,  ..., 0., 0., 0.],\n",
      "         [0., 0., 0.,  ..., 0., 0., 0.],\n",
      "         [0., 0., 0.,  ..., 0., 0., 0.]]], dtype=torch.float64), tensor([[ 0,  0,  0,  ..., 82, 82, 82],\n",
      "        [ 0,  0,  0,  ...,  7,  7,  7],\n",
      "        [ 0,  0,  0,  ..., 29, 29, 29],\n",
      "        ...,\n",
      "        [ 0,  0,  0,  ..., 13, 13, 13],\n",
      "        [ 0,  0,  0,  ..., 82, 82, 82],\n",
      "        [ 0,  0,  0,  ..., 49, 49, 49]], dtype=torch.int32), tensor([[0, 0, 0,  ..., 1, 1, 1],\n",
      "        [0, 0, 0,  ..., 0, 0, 1],\n",
      "        [0, 0, 0,  ..., 0, 1, 0],\n",
      "        ...,\n",
      "        [0, 0, 0,  ..., 1, 0, 0],\n",
      "        [0, 0, 0,  ..., 1, 1, 1],\n",
      "        [0, 0, 0,  ..., 0, 0, 0]], dtype=torch.int32)]\n",
      "tensor([[ 0,  0,  0,  ..., 82, 82, 82],\n",
      "        [ 0,  0,  0,  ...,  7,  7,  7],\n",
      "        [ 0,  0,  0,  ..., 29, 29, 29],\n",
      "        ...,\n",
      "        [ 0,  0,  0,  ..., 13, 13, 13],\n",
      "        [ 0,  0,  0,  ..., 82, 82, 82],\n",
      "        [ 0,  0,  0,  ..., 49, 49, 49]])\n"
     ]
    },
    {
     "name": "stderr",
     "output_type": "stream",
     "text": [
      "  0%|                                                                                           | 0/79 [00:05<?, ?it/s]\n"
     ]
    }
   ],
   "source": [
    "dataloader_kwargs = {'pin_memory': True} if torch.cuda.is_available() else {}\n",
    "\n",
    "test_dataset = DKTDataset(test_set, n_skill=123, max_seq=100, min_step=10)\n",
    "# 如果运行内存不够建议减低num_workers的值\n",
    "train_dataloader = DataLoader(train_dataset, batch_size=32, shuffle=True, num_workers=5, **dataloader_kwargs)\n",
    "test_dataloader = DataLoader(test_dataset, batch_size=32, shuffle=True, num_workers=5, **dataloader_kwargs)\n",
    "\n",
    "tbar = tqdm(train_dataloader)\n",
    "# print(tbar[0])\n",
    "# x = item[0].to(device).float()\n",
    "# target_id = item[1].to(device).long()\n",
    "# label = item[2].to(device).float()\n",
    "# target_mask = (target_id != 0)\n",
    "for item in tbar:\n",
    "        x = item[0].float()\n",
    "        target_id = item[1].long()\n",
    "        label = item[2].float()\n",
    "        target_mask = (target_id != 0)\n",
    "        print(x.shape)\n",
    "        print(len(x),len(target_id))\n",
    "        print(item)\n",
    "#         print(x[0])\n",
    "        print(target_id)\n",
    "        break;"
   ]
  },
  {
   "cell_type": "code",
   "execution_count": null,
   "id": "525509f2",
   "metadata": {},
   "outputs": [],
   "source": []
  }
 ],
 "metadata": {
  "kernelspec": {
   "display_name": "Python 3",
   "language": "python",
   "name": "python3"
  },
  "language_info": {
   "codemirror_mode": {
    "name": "ipython",
    "version": 3
   },
   "file_extension": ".py",
   "mimetype": "text/x-python",
   "name": "python",
   "nbconvert_exporter": "python",
   "pygments_lexer": "ipython3",
   "version": "3.8.8"
  }
 },
 "nbformat": 4,
 "nbformat_minor": 5
}
